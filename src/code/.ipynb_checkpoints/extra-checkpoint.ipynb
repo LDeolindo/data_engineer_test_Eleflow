{
 "cells": [
  {
   "cell_type": "markdown",
   "id": "a6a2630b-b457-434a-871a-e2ca1e5f167a",
   "metadata": {},
   "source": [
    "## Resposta: Extras"
   ]
  },
  {
   "cell_type": "markdown",
   "id": "0faad9d3-a43b-45c2-aa68-f72dc0d73f8a",
   "metadata": {},
   "source": [
    "### Descrever qual estratégia você usaria para ingerir estes dados de forma incremental caso precise capturar esses dados a cada mes?"
   ]
  },
  {
   "cell_type": "markdown",
   "id": "c050494a-8f77-49cf-9035-84bd709a940d",
   "metadata": {},
   "source": [
    "Faria um sistema orientado a eventos, por exemplo um Lambda utilizando um Schedule com uma expressão *cron* que tivesse uma frequência mensal, que fosse disparado mensalmente para a extração desses arquivos. Subiria arquivos extraídos para um bucket no S3, que a cada novo arquivo inserido disparar um evento SQS para um Lambda, que ao invés de ler esses dados local (como nesse teste) leria do bucket do S3, trocando a função *read_csv* para *get_object_s3*, e executando a o mesmo código caso fosse a mesma quantidade de arquivos, caso aumentasse significativamente, alteraria a abordagem de juntar tudo em um Dataframe e remover os valores duplicados, criando primeiro uma tabela no banco com *PRIMARY KEY* ou *UNIQUE index*, faria a inserção dos arquivos utilizando um buffer por exemplo, e ignoraria ou atualizaria os  valores duplicados. "
   ]
  },
  {
   "cell_type": "markdown",
   "id": "e3fae238-767e-41de-880d-ab2e3eecde68",
   "metadata": {},
   "source": [
    "## Justifique em cada etapa sobre a escalabilidade da tecnologia utilizada."
   ]
  },
  {
   "cell_type": "markdown",
   "id": "7e62ff0c-0bc5-493c-8c68-101f29d489a1",
   "metadata": {},
   "source": [
    "Python: é uma das linguagens mais fácil de se utilizar quando se está trabalhando com dados, possui diversas bibliotecas que auxiliam e, aumentam a produtividade e facilitam o trabalho, por exemplos o pandas para manipulação dos dados, que fornece funções que ajudam na normalização e padronização dos dados, oferecendo flexibilidade e desempenho.\n",
    "\n",
    "SQL: é uma linguagem que ajuda bastante para fazer análise de dados, é fácil de aprender e conta com sintaxe simples, e como os dados são em sua maioria armazenados em banco de dados, acaba sendo interessante e performático a utilização de SQL, sendo interessante para filtrar valares, agregação e cruzamentos de dados, facilitando a exploração do dados e não sendo necessário grandes trabalhos para tirar os dados do banco, e tudo mais, podendo ser utilizado no próprio console economizando tempo, e para simplificar o cruzamento de mais informações de outros schemas e tabelas, aumentando a produtividade."
   ]
  },
  {
   "cell_type": "markdown",
   "id": "976c3630-2624-4c7f-9778-9de49ffb0f7c",
   "metadata": {},
   "source": [
    "## Justifique as camadas utilizadas durante o processo de ingestão até a disponibilização dos dados."
   ]
  },
  {
   "cell_type": "markdown",
   "id": "86392e7b-1111-4764-9ef7-209ddc1f3a64",
   "metadata": {},
   "source": [
    "Transformação: é a etapa onde os dados, após terem sidos extraídos, são normalizados e padronizados, assim garantindo a consistência e integridade, eliminando erros, ruídos e dados faltantes.\n",
    "\n",
    "Carga: onde após a transformação desses dados, é feita o carregamento no destino, para uma base de informação, sendo um banco de dados, armazém de dados, lago de dados e até mesmo armazenados em arquivos *CSV*, *JSON* e *XML* para uso posterior.\n",
    "\n",
    "Views: é um forma de exibir os dados coletados fazendo uma consulta pré-definida, facilitando a análise e a visualização dos dados, podendo por exemplo agregá-los como forme a regra de negócios para ferramentas externas ou consumo do frontend."
   ]
  }
 ],
 "metadata": {
  "kernelspec": {
   "display_name": "Python 3 (ipykernel)",
   "language": "python",
   "name": "python3"
  },
  "language_info": {
   "codemirror_mode": {
    "name": "ipython",
    "version": 3
   },
   "file_extension": ".py",
   "mimetype": "text/x-python",
   "name": "python",
   "nbconvert_exporter": "python",
   "pygments_lexer": "ipython3",
   "version": "3.10.2"
  }
 },
 "nbformat": 4,
 "nbformat_minor": 5
}
